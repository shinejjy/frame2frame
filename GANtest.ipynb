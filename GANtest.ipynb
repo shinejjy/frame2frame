{
 "cells": [
  {
   "cell_type": "code",
   "execution_count": 1,
   "outputs": [],
   "source": [
    "import net as n"
   ],
   "metadata": {
    "collapsed": false
   }
  },
  {
   "cell_type": "code",
   "execution_count": null,
   "outputs": [
    {
     "name": "stdout",
     "output_type": "stream",
     "text": [
      "0 [D loss: 1.162753] [G loss: 0.955820]\n",
      "1 [D loss: 1.335675] [G loss: 1.121161]\n",
      "2 [D loss: 1.251432] [G loss: 0.838154]\n",
      "3 [D loss: 1.271245] [G loss: 0.767679]\n",
      "4 [D loss: 1.307716] [G loss: 0.865362]\n",
      "5 [D loss: 1.309504] [G loss: 0.556191]\n",
      "6 [D loss: 1.285006] [G loss: 0.810907]\n",
      "7 [D loss: 1.368627] [G loss: 0.861263]\n",
      "8 [D loss: 1.330409] [G loss: 0.671838]\n",
      "9 [D loss: 1.340923] [G loss: 0.650323]\n",
      "10 [D loss: 1.322551] [G loss: 0.765701]\n",
      "11 [D loss: 1.291597] [G loss: 0.804359]\n",
      "12 [D loss: 1.339135] [G loss: 0.659505]\n",
      "13 [D loss: 1.308767] [G loss: 0.795666]\n",
      "14 [D loss: 1.345841] [G loss: 0.625956]\n",
      "15 [D loss: 1.315729] [G loss: 0.814420]\n",
      "16 [D loss: 1.286488] [G loss: 0.763750]\n",
      "17 [D loss: 1.409293] [G loss: 1.064235]\n"
     ]
    }
   ],
   "source": [
    "net = n.GAN()\n",
    "net.train(100)"
   ],
   "metadata": {
    "collapsed": false,
    "pycharm": {
     "is_executing": true
    }
   }
  },
  {
   "cell_type": "code",
   "execution_count": null,
   "outputs": [],
   "source": [],
   "metadata": {
    "collapsed": false
   }
  },
  {
   "cell_type": "code",
   "execution_count": null,
   "outputs": [],
   "source": [],
   "metadata": {
    "collapsed": false
   }
  }
 ],
 "metadata": {
  "kernelspec": {
   "display_name": "Python 3",
   "language": "python",
   "name": "python3"
  },
  "language_info": {
   "codemirror_mode": {
    "name": "ipython",
    "version": 2
   },
   "file_extension": ".py",
   "mimetype": "text/x-python",
   "name": "python",
   "nbconvert_exporter": "python",
   "pygments_lexer": "ipython2",
   "version": "2.7.6"
  }
 },
 "nbformat": 4,
 "nbformat_minor": 0
}
