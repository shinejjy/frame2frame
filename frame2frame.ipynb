{
 "cells": [
  {
   "cell_type": "code",
   "execution_count": 4,
   "outputs": [],
   "source": [
    "%matplotlib inline\n",
    "from Dataset import CreateDataset\n",
    "import net as n\n",
    "import torch\n",
    "from matplotlib import pyplot as plt\n",
    "import pickle"
   ],
   "metadata": {
    "collapsed": false
   }
  },
  {
   "cell_type": "code",
   "execution_count": 2,
   "outputs": [
    {
     "name": "stdout",
     "output_type": "stream",
     "text": [
      "data\n",
      "data\\man-surfing.mp4\n",
      "data\\car-turn.mp4\n",
      "data\\rabbit-watermelon.mp4\n",
      "data\\istockphoto-1359576900-640_adpp_is.mp4\n",
      "data\\宠物有时比孩子还调皮🐻，车主名叫 Sheikh Humaid Abdulla 是名投资家，除熊之外，还养了老虎🐯，狮子🦁️，鬣狗，蛇等动物，所以被熊弄掉兰博的门，也不稀奇啦😂😂.mp4\n",
      "data\\小动物聪明也有灵性🥰 .mp4\n",
      "data\\【春日摄影大赛】落霞与孤鹜齐飞，秋水共长天一色。The sunset and the lone duck fly together, and the autumn water shares the same color with the long sky. .mp4\n",
      "data\\#Xinjiang #新疆 延时摄影 .mp4\n",
      "data\\plants.mp4\n",
      "length of dataset: 7184\n"
     ]
    }
   ],
   "source": [
    "Dataset, pre_frame = CreateDataset('data')"
   ],
   "metadata": {
    "collapsed": false
   }
  },
  {
   "cell_type": "code",
   "execution_count": null,
   "outputs": [],
   "source": [
    "trainDataset = Dataset[:5000]\n",
    "testDataset = Dataset[5000:]"
   ],
   "metadata": {
    "collapsed": false,
    "pycharm": {
     "is_executing": true
    }
   }
  },
  {
   "cell_type": "code",
   "execution_count": 6,
   "outputs": [],
   "source": [
    "train_loader = torch.utils.data.DataLoader(trainDataset, batch_size=50, shuffle=True)\n",
    "test_loader = torch.utils.data.DataLoader(testDataset, batch_size=50, shuffle=True)"
   ],
   "metadata": {
    "collapsed": false
   }
  },
  {
   "cell_type": "code",
   "execution_count": 7,
   "outputs": [
    {
     "data": {
      "text/plain": "Autoencoder(\n  (encoder): Sequential(\n    (0): Conv2d(3, 16, kernel_size=(3, 3), stride=(1, 1), padding=(1, 1))\n    (1): ReLU()\n    (2): MaxPool2d(kernel_size=2, stride=2, padding=0, dilation=1, ceil_mode=False)\n    (3): Conv2d(16, 32, kernel_size=(3, 3), stride=(1, 1), padding=(1, 1))\n    (4): ReLU()\n    (5): MaxPool2d(kernel_size=2, stride=2, padding=0, dilation=1, ceil_mode=False)\n  )\n  (decoder): Sequential(\n    (0): ConvTranspose2d(32, 16, kernel_size=(2, 2), stride=(2, 2))\n    (1): ReLU()\n    (2): ConvTranspose2d(16, 3, kernel_size=(2, 2), stride=(2, 2))\n    (3): Sigmoid()\n  )\n)"
     },
     "execution_count": 7,
     "metadata": {},
     "output_type": "execute_result"
    }
   ],
   "source": [
    "net = n.Autoencoder()\n",
    "net"
   ],
   "metadata": {
    "collapsed": false
   }
  },
  {
   "cell_type": "code",
   "execution_count": 7,
   "outputs": [
    {
     "name": "stdout",
     "output_type": "stream",
     "text": [
      "train on cpu\n",
      "Epoch 20/100: train loss: 0.0264, test loss: 0.0309\n",
      "Epoch 40/100: train loss: 0.0057, test loss: 0.0133\n",
      "Epoch 60/100: train loss: 0.0039, test loss: 0.0074\n",
      "Epoch 80/100: train loss: 0.0033, test loss: 0.0055\n",
      "Epoch 100/100: train loss: 0.0031, test loss: 0.0049\n"
     ]
    }
   ],
   "source": [
    "num_epochs = 100\n",
    "train_loss, test_loss = n.train(net, train_loader, test_loader, pre_frame, num_epochs=num_epochs)"
   ],
   "metadata": {
    "collapsed": false
   }
  },
  {
   "cell_type": "code",
   "execution_count": 8,
   "outputs": [
    {
     "data": {
      "text/plain": "[<matplotlib.lines.Line2D at 0x19a01b8a740>]"
     },
     "execution_count": 8,
     "metadata": {},
     "output_type": "execute_result"
    },
    {
     "data": {
      "text/plain": "<Figure size 350x250 with 1 Axes>",
      "image/svg+xml": "<?xml version=\"1.0\" encoding=\"utf-8\" standalone=\"no\"?>\n<!DOCTYPE svg PUBLIC \"-//W3C//DTD SVG 1.1//EN\"\n  \"http://www.w3.org/Graphics/SVG/1.1/DTD/svg11.dtd\">\n<svg xmlns:xlink=\"http://www.w3.org/1999/xlink\" width=\"239.632102pt\" height=\"169.678125pt\" viewBox=\"0 0 239.632102 169.678125\" xmlns=\"http://www.w3.org/2000/svg\" version=\"1.1\">\n <metadata>\n  <rdf:RDF xmlns:dc=\"http://purl.org/dc/elements/1.1/\" xmlns:cc=\"http://creativecommons.org/ns#\" xmlns:rdf=\"http://www.w3.org/1999/02/22-rdf-syntax-ns#\">\n   <cc:Work>\n    <dc:type rdf:resource=\"http://purl.org/dc/dcmitype/StillImage\"/>\n    <dc:date>2023-04-02T10:26:27.344543</dc:date>\n    <dc:format>image/svg+xml</dc:format>\n    <dc:creator>\n     <cc:Agent>\n      <dc:title>Matplotlib v3.5.3, https://matplotlib.org/</dc:title>\n     </cc:Agent>\n    </dc:creator>\n   </cc:Work>\n  </rdf:RDF>\n </metadata>\n <defs>\n  <style type=\"text/css\">*{stroke-linejoin: round; stroke-linecap: butt}</style>\n </defs>\n <g id=\"figure_1\">\n  <g id=\"patch_1\">\n   <path d=\"M 0 169.678125 \nL 239.632102 169.678125 \nL 239.632102 0 \nL 0 0 \nz\n\" style=\"fill: #ffffff\"/>\n  </g>\n  <g id=\"axes_1\">\n   <g id=\"patch_2\">\n    <path d=\"M 36.465625 145.8 \nL 231.765625 145.8 \nL 231.765625 7.2 \nL 36.465625 7.2 \nz\n\" style=\"fill: #ffffff\"/>\n   </g>\n   <g id=\"matplotlib.axis_1\">\n    <g id=\"xtick_1\">\n     <g id=\"line2d_1\">\n      <defs>\n       <path id=\"m0907791fa6\" d=\"M 0 0 \nL 0 3.5 \n\" style=\"stroke: #000000; stroke-width: 0.8\"/>\n      </defs>\n      <g>\n       <use xlink:href=\"#m0907791fa6\" x=\"43.549509\" y=\"145.8\" style=\"stroke: #000000; stroke-width: 0.8\"/>\n      </g>\n     </g>\n     <g id=\"text_1\">\n      <!-- 0 -->\n      <g transform=\"translate(40.368259 160.398438)scale(0.1 -0.1)\">\n       <defs>\n        <path id=\"DejaVuSans-30\" d=\"M 2034 4250 \nQ 1547 4250 1301 3770 \nQ 1056 3291 1056 2328 \nQ 1056 1369 1301 889 \nQ 1547 409 2034 409 \nQ 2525 409 2770 889 \nQ 3016 1369 3016 2328 \nQ 3016 3291 2770 3770 \nQ 2525 4250 2034 4250 \nz\nM 2034 4750 \nQ 2819 4750 3233 4129 \nQ 3647 3509 3647 2328 \nQ 3647 1150 3233 529 \nQ 2819 -91 2034 -91 \nQ 1250 -91 836 529 \nQ 422 1150 422 2328 \nQ 422 3509 836 4129 \nQ 1250 4750 2034 4750 \nz\n\" transform=\"scale(0.015625)\"/>\n       </defs>\n       <use xlink:href=\"#DejaVuSans-30\"/>\n      </g>\n     </g>\n    </g>\n    <g id=\"xtick_2\">\n     <g id=\"line2d_2\">\n      <g>\n       <use xlink:href=\"#m0907791fa6\" x=\"79.417278\" y=\"145.8\" style=\"stroke: #000000; stroke-width: 0.8\"/>\n      </g>\n     </g>\n     <g id=\"text_2\">\n      <!-- 20 -->\n      <g transform=\"translate(73.054778 160.398438)scale(0.1 -0.1)\">\n       <defs>\n        <path id=\"DejaVuSans-32\" d=\"M 1228 531 \nL 3431 531 \nL 3431 0 \nL 469 0 \nL 469 531 \nQ 828 903 1448 1529 \nQ 2069 2156 2228 2338 \nQ 2531 2678 2651 2914 \nQ 2772 3150 2772 3378 \nQ 2772 3750 2511 3984 \nQ 2250 4219 1831 4219 \nQ 1534 4219 1204 4116 \nQ 875 4013 500 3803 \nL 500 4441 \nQ 881 4594 1212 4672 \nQ 1544 4750 1819 4750 \nQ 2544 4750 2975 4387 \nQ 3406 4025 3406 3419 \nQ 3406 3131 3298 2873 \nQ 3191 2616 2906 2266 \nQ 2828 2175 2409 1742 \nQ 1991 1309 1228 531 \nz\n\" transform=\"scale(0.015625)\"/>\n       </defs>\n       <use xlink:href=\"#DejaVuSans-32\"/>\n       <use xlink:href=\"#DejaVuSans-30\" x=\"63.623047\"/>\n      </g>\n     </g>\n    </g>\n    <g id=\"xtick_3\">\n     <g id=\"line2d_3\">\n      <g>\n       <use xlink:href=\"#m0907791fa6\" x=\"115.285046\" y=\"145.8\" style=\"stroke: #000000; stroke-width: 0.8\"/>\n      </g>\n     </g>\n     <g id=\"text_3\">\n      <!-- 40 -->\n      <g transform=\"translate(108.922546 160.398438)scale(0.1 -0.1)\">\n       <defs>\n        <path id=\"DejaVuSans-34\" d=\"M 2419 4116 \nL 825 1625 \nL 2419 1625 \nL 2419 4116 \nz\nM 2253 4666 \nL 3047 4666 \nL 3047 1625 \nL 3713 1625 \nL 3713 1100 \nL 3047 1100 \nL 3047 0 \nL 2419 0 \nL 2419 1100 \nL 313 1100 \nL 313 1709 \nL 2253 4666 \nz\n\" transform=\"scale(0.015625)\"/>\n       </defs>\n       <use xlink:href=\"#DejaVuSans-34\"/>\n       <use xlink:href=\"#DejaVuSans-30\" x=\"63.623047\"/>\n      </g>\n     </g>\n    </g>\n    <g id=\"xtick_4\">\n     <g id=\"line2d_4\">\n      <g>\n       <use xlink:href=\"#m0907791fa6\" x=\"151.152815\" y=\"145.8\" style=\"stroke: #000000; stroke-width: 0.8\"/>\n      </g>\n     </g>\n     <g id=\"text_4\">\n      <!-- 60 -->\n      <g transform=\"translate(144.790315 160.398438)scale(0.1 -0.1)\">\n       <defs>\n        <path id=\"DejaVuSans-36\" d=\"M 2113 2584 \nQ 1688 2584 1439 2293 \nQ 1191 2003 1191 1497 \nQ 1191 994 1439 701 \nQ 1688 409 2113 409 \nQ 2538 409 2786 701 \nQ 3034 994 3034 1497 \nQ 3034 2003 2786 2293 \nQ 2538 2584 2113 2584 \nz\nM 3366 4563 \nL 3366 3988 \nQ 3128 4100 2886 4159 \nQ 2644 4219 2406 4219 \nQ 1781 4219 1451 3797 \nQ 1122 3375 1075 2522 \nQ 1259 2794 1537 2939 \nQ 1816 3084 2150 3084 \nQ 2853 3084 3261 2657 \nQ 3669 2231 3669 1497 \nQ 3669 778 3244 343 \nQ 2819 -91 2113 -91 \nQ 1303 -91 875 529 \nQ 447 1150 447 2328 \nQ 447 3434 972 4092 \nQ 1497 4750 2381 4750 \nQ 2619 4750 2861 4703 \nQ 3103 4656 3366 4563 \nz\n\" transform=\"scale(0.015625)\"/>\n       </defs>\n       <use xlink:href=\"#DejaVuSans-36\"/>\n       <use xlink:href=\"#DejaVuSans-30\" x=\"63.623047\"/>\n      </g>\n     </g>\n    </g>\n    <g id=\"xtick_5\">\n     <g id=\"line2d_5\">\n      <g>\n       <use xlink:href=\"#m0907791fa6\" x=\"187.020584\" y=\"145.8\" style=\"stroke: #000000; stroke-width: 0.8\"/>\n      </g>\n     </g>\n     <g id=\"text_5\">\n      <!-- 80 -->\n      <g transform=\"translate(180.658084 160.398438)scale(0.1 -0.1)\">\n       <defs>\n        <path id=\"DejaVuSans-38\" d=\"M 2034 2216 \nQ 1584 2216 1326 1975 \nQ 1069 1734 1069 1313 \nQ 1069 891 1326 650 \nQ 1584 409 2034 409 \nQ 2484 409 2743 651 \nQ 3003 894 3003 1313 \nQ 3003 1734 2745 1975 \nQ 2488 2216 2034 2216 \nz\nM 1403 2484 \nQ 997 2584 770 2862 \nQ 544 3141 544 3541 \nQ 544 4100 942 4425 \nQ 1341 4750 2034 4750 \nQ 2731 4750 3128 4425 \nQ 3525 4100 3525 3541 \nQ 3525 3141 3298 2862 \nQ 3072 2584 2669 2484 \nQ 3125 2378 3379 2068 \nQ 3634 1759 3634 1313 \nQ 3634 634 3220 271 \nQ 2806 -91 2034 -91 \nQ 1263 -91 848 271 \nQ 434 634 434 1313 \nQ 434 1759 690 2068 \nQ 947 2378 1403 2484 \nz\nM 1172 3481 \nQ 1172 3119 1398 2916 \nQ 1625 2713 2034 2713 \nQ 2441 2713 2670 2916 \nQ 2900 3119 2900 3481 \nQ 2900 3844 2670 4047 \nQ 2441 4250 2034 4250 \nQ 1625 4250 1398 4047 \nQ 1172 3844 1172 3481 \nz\n\" transform=\"scale(0.015625)\"/>\n       </defs>\n       <use xlink:href=\"#DejaVuSans-38\"/>\n       <use xlink:href=\"#DejaVuSans-30\" x=\"63.623047\"/>\n      </g>\n     </g>\n    </g>\n    <g id=\"xtick_6\">\n     <g id=\"line2d_6\">\n      <g>\n       <use xlink:href=\"#m0907791fa6\" x=\"222.888352\" y=\"145.8\" style=\"stroke: #000000; stroke-width: 0.8\"/>\n      </g>\n     </g>\n     <g id=\"text_6\">\n      <!-- 100 -->\n      <g transform=\"translate(213.344602 160.398438)scale(0.1 -0.1)\">\n       <defs>\n        <path id=\"DejaVuSans-31\" d=\"M 794 531 \nL 1825 531 \nL 1825 4091 \nL 703 3866 \nL 703 4441 \nL 1819 4666 \nL 2450 4666 \nL 2450 531 \nL 3481 531 \nL 3481 0 \nL 794 0 \nL 794 531 \nz\n\" transform=\"scale(0.015625)\"/>\n       </defs>\n       <use xlink:href=\"#DejaVuSans-31\"/>\n       <use xlink:href=\"#DejaVuSans-30\" x=\"63.623047\"/>\n       <use xlink:href=\"#DejaVuSans-30\" x=\"127.246094\"/>\n      </g>\n     </g>\n    </g>\n   </g>\n   <g id=\"matplotlib.axis_2\">\n    <g id=\"ytick_1\">\n     <g id=\"line2d_7\">\n      <defs>\n       <path id=\"mb5262c2d40\" d=\"M 0 0 \nL -3.5 0 \n\" style=\"stroke: #000000; stroke-width: 0.8\"/>\n      </defs>\n      <g>\n       <use xlink:href=\"#mb5262c2d40\" x=\"36.465625\" y=\"145.630959\" style=\"stroke: #000000; stroke-width: 0.8\"/>\n      </g>\n     </g>\n     <g id=\"text_7\">\n      <!-- 0.00 -->\n      <g transform=\"translate(7.2 149.430177)scale(0.1 -0.1)\">\n       <defs>\n        <path id=\"DejaVuSans-2e\" d=\"M 684 794 \nL 1344 794 \nL 1344 0 \nL 684 0 \nL 684 794 \nz\n\" transform=\"scale(0.015625)\"/>\n       </defs>\n       <use xlink:href=\"#DejaVuSans-30\"/>\n       <use xlink:href=\"#DejaVuSans-2e\" x=\"63.623047\"/>\n       <use xlink:href=\"#DejaVuSans-30\" x=\"95.410156\"/>\n       <use xlink:href=\"#DejaVuSans-30\" x=\"159.033203\"/>\n      </g>\n     </g>\n    </g>\n    <g id=\"ytick_2\">\n     <g id=\"line2d_8\">\n      <g>\n       <use xlink:href=\"#mb5262c2d40\" x=\"36.465625\" y=\"105.944796\" style=\"stroke: #000000; stroke-width: 0.8\"/>\n      </g>\n     </g>\n     <g id=\"text_8\">\n      <!-- 0.02 -->\n      <g transform=\"translate(7.2 109.744014)scale(0.1 -0.1)\">\n       <use xlink:href=\"#DejaVuSans-30\"/>\n       <use xlink:href=\"#DejaVuSans-2e\" x=\"63.623047\"/>\n       <use xlink:href=\"#DejaVuSans-30\" x=\"95.410156\"/>\n       <use xlink:href=\"#DejaVuSans-32\" x=\"159.033203\"/>\n      </g>\n     </g>\n    </g>\n    <g id=\"ytick_3\">\n     <g id=\"line2d_9\">\n      <g>\n       <use xlink:href=\"#mb5262c2d40\" x=\"36.465625\" y=\"66.258633\" style=\"stroke: #000000; stroke-width: 0.8\"/>\n      </g>\n     </g>\n     <g id=\"text_9\">\n      <!-- 0.04 -->\n      <g transform=\"translate(7.2 70.057851)scale(0.1 -0.1)\">\n       <use xlink:href=\"#DejaVuSans-30\"/>\n       <use xlink:href=\"#DejaVuSans-2e\" x=\"63.623047\"/>\n       <use xlink:href=\"#DejaVuSans-30\" x=\"95.410156\"/>\n       <use xlink:href=\"#DejaVuSans-34\" x=\"159.033203\"/>\n      </g>\n     </g>\n    </g>\n    <g id=\"ytick_4\">\n     <g id=\"line2d_10\">\n      <g>\n       <use xlink:href=\"#mb5262c2d40\" x=\"36.465625\" y=\"26.57247\" style=\"stroke: #000000; stroke-width: 0.8\"/>\n      </g>\n     </g>\n     <g id=\"text_10\">\n      <!-- 0.06 -->\n      <g transform=\"translate(7.2 30.371688)scale(0.1 -0.1)\">\n       <use xlink:href=\"#DejaVuSans-30\"/>\n       <use xlink:href=\"#DejaVuSans-2e\" x=\"63.623047\"/>\n       <use xlink:href=\"#DejaVuSans-30\" x=\"95.410156\"/>\n       <use xlink:href=\"#DejaVuSans-36\" x=\"159.033203\"/>\n      </g>\n     </g>\n    </g>\n   </g>\n   <g id=\"line2d_11\">\n    <path d=\"M 45.342898 82.976167 \nL 47.136286 83.637651 \nL 48.929675 83.410454 \nL 50.723063 83.424211 \nL 52.516451 83.969258 \nL 54.30984 83.501724 \nL 56.103228 83.68856 \nL 57.896617 81.366524 \nL 59.690005 79.591882 \nL 61.483394 75.586578 \nL 63.276782 72.272711 \nL 65.07017 72.045159 \nL 66.863559 74.348043 \nL 68.656947 75.184861 \nL 70.450336 74.350201 \nL 72.243724 73.867961 \nL 74.037113 74.62932 \nL 75.830501 77.037127 \nL 77.623889 80.333297 \nL 79.417278 84.237884 \nL 81.210666 90.023437 \nL 83.004055 97.330962 \nL 84.797443 104.665541 \nL 86.590832 112.431725 \nL 88.38422 115.747666 \nL 90.177608 117.263923 \nL 91.970997 115.241516 \nL 93.764385 114.652061 \nL 95.557774 112.224025 \nL 97.351162 111.42273 \nL 99.144551 111.227741 \nL 100.937939 111.865829 \nL 102.731327 112.949144 \nL 104.524716 112.686643 \nL 106.318104 114.312304 \nL 108.111493 115.368524 \nL 109.904881 115.984023 \nL 111.69827 117.679065 \nL 113.491658 118.380851 \nL 115.285046 119.163088 \nL 117.078435 120.318325 \nL 118.871823 121.384887 \nL 120.665212 121.999 \nL 122.4586 121.873859 \nL 124.251989 123.079623 \nL 126.045377 124.651368 \nL 127.838765 124.735125 \nL 129.632154 125.560843 \nL 131.425542 126.606374 \nL 133.218931 126.092075 \nL 135.012319 128.198009 \nL 136.805708 127.404598 \nL 138.599096 129.012464 \nL 140.392485 128.512071 \nL 142.185873 129.665717 \nL 143.979261 129.230854 \nL 145.77265 130.309121 \nL 147.566038 130.188676 \nL 149.359427 131.008879 \nL 151.152815 130.877571 \nL 152.946204 131.744416 \nL 154.739592 131.727744 \nL 156.53298 132.072491 \nL 158.326369 132.231165 \nL 160.119757 132.242016 \nL 161.913146 132.885682 \nL 163.706534 132.817844 \nL 165.499923 132.390268 \nL 167.293311 133.604035 \nL 169.086699 132.534211 \nL 170.880088 133.889718 \nL 172.673476 132.991277 \nL 174.466865 134.173381 \nL 176.260253 133.864707 \nL 178.053642 134.438256 \nL 179.84703 134.201989 \nL 181.640418 134.301927 \nL 183.433807 134.496574 \nL 185.227195 134.481366 \nL 187.020584 134.68907 \nL 188.813972 134.81897 \nL 190.607361 135.076988 \nL 192.400749 134.593132 \nL 194.194137 135.430889 \nL 195.987526 134.710768 \nL 197.780914 135.410815 \nL 199.574303 135.374281 \nL 201.367691 135.473888 \nL 203.16108 135.557413 \nL 204.954468 135.119693 \nL 206.747856 135.920692 \nL 208.541245 135.542338 \nL 210.334633 135.961473 \nL 212.128022 135.860505 \nL 213.92141 135.826095 \nL 215.714799 136.082323 \nL 217.508187 135.696053 \nL 219.301575 136.121928 \nL 221.094964 136.04339 \nL 222.888352 135.932429 \n\" clip-path=\"url(#p6e867ac49e)\" style=\"fill: none; stroke: #ff0000; stroke-width: 1.5; stroke-linecap: square\"/>\n   </g>\n   <g id=\"line2d_12\">\n    <path d=\"M 45.342898 13.5 \nL 47.136286 16.096495 \nL 48.929675 17.892134 \nL 50.723063 19.594215 \nL 52.516451 21.61617 \nL 54.30984 24.30562 \nL 56.103228 27.897174 \nL 57.896617 32.318884 \nL 59.690005 37.498479 \nL 61.483394 42.927508 \nL 63.276782 47.889894 \nL 65.07017 52.564337 \nL 66.863559 57.470419 \nL 68.656947 62.57812 \nL 70.450336 67.755131 \nL 72.243724 72.829011 \nL 74.037113 77.774562 \nL 75.830501 82.743335 \nL 77.623889 87.902745 \nL 79.417278 93.174392 \nL 81.210666 98.677623 \nL 83.004055 104.278053 \nL 84.797443 109.930626 \nL 86.590832 115.265707 \nL 88.38422 119.939083 \nL 90.177608 123.522723 \nL 91.970997 126.216336 \nL 93.764385 127.814464 \nL 95.557774 129.069564 \nL 97.351162 129.86379 \nL 99.144551 130.595387 \nL 100.937939 131.121235 \nL 102.731327 131.594675 \nL 104.524716 132.162266 \nL 106.318104 132.592519 \nL 108.111493 132.951975 \nL 109.904881 133.376605 \nL 111.69827 133.6535 \nL 113.491658 134.035086 \nL 115.285046 134.317334 \nL 117.078435 134.650686 \nL 118.871823 134.971542 \nL 120.665212 135.180153 \nL 122.4586 135.501862 \nL 124.251989 135.734602 \nL 126.045377 135.973827 \nL 127.838765 136.135013 \nL 129.632154 136.370805 \nL 131.425542 136.536175 \nL 133.218931 136.604118 \nL 135.012319 136.849919 \nL 136.805708 137.006151 \nL 138.599096 137.187068 \nL 140.392485 137.278873 \nL 142.185873 137.416852 \nL 143.979261 137.543002 \nL 145.77265 137.644737 \nL 147.566038 137.722145 \nL 149.359427 137.870759 \nL 151.152815 137.95236 \nL 152.946204 138.051386 \nL 154.739592 138.084811 \nL 156.53298 138.181649 \nL 158.326369 138.218536 \nL 160.119757 138.267605 \nL 161.913146 138.3622 \nL 163.706534 138.428657 \nL 165.499923 138.511325 \nL 167.293311 138.526897 \nL 169.086699 138.493803 \nL 170.880088 138.587676 \nL 172.673476 138.601777 \nL 174.466865 138.652921 \nL 176.260253 138.719626 \nL 178.053642 138.789054 \nL 179.84703 138.85461 \nL 181.640418 138.892723 \nL 183.433807 138.96086 \nL 185.227195 138.959578 \nL 187.020584 138.996259 \nL 188.813972 139.021883 \nL 190.607361 139.068238 \nL 192.400749 139.071684 \nL 194.194137 139.15016 \nL 195.987526 139.111873 \nL 197.780914 139.194308 \nL 199.574303 139.186134 \nL 201.367691 139.23995 \nL 203.16108 139.249012 \nL 204.954468 139.208034 \nL 206.747856 139.311157 \nL 208.541245 139.312778 \nL 210.334633 139.347924 \nL 212.128022 139.384453 \nL 213.92141 139.390504 \nL 215.714799 139.430927 \nL 217.508187 139.473011 \nL 219.301575 139.477879 \nL 221.094964 139.415925 \nL 222.888352 139.5 \n\" clip-path=\"url(#p6e867ac49e)\" style=\"fill: none; stroke: #0000ff; stroke-width: 1.5; stroke-linecap: square\"/>\n   </g>\n   <g id=\"patch_3\">\n    <path d=\"M 36.465625 145.8 \nL 36.465625 7.2 \n\" style=\"fill: none; stroke: #000000; stroke-width: 0.8; stroke-linejoin: miter; stroke-linecap: square\"/>\n   </g>\n   <g id=\"patch_4\">\n    <path d=\"M 231.765625 145.8 \nL 231.765625 7.2 \n\" style=\"fill: none; stroke: #000000; stroke-width: 0.8; stroke-linejoin: miter; stroke-linecap: square\"/>\n   </g>\n   <g id=\"patch_5\">\n    <path d=\"M 36.465625 145.8 \nL 231.765625 145.8 \n\" style=\"fill: none; stroke: #000000; stroke-width: 0.8; stroke-linejoin: miter; stroke-linecap: square\"/>\n   </g>\n   <g id=\"patch_6\">\n    <path d=\"M 36.465625 7.2 \nL 231.765625 7.2 \n\" style=\"fill: none; stroke: #000000; stroke-width: 0.8; stroke-linejoin: miter; stroke-linecap: square\"/>\n   </g>\n  </g>\n </g>\n <defs>\n  <clipPath id=\"p6e867ac49e\">\n   <rect x=\"36.465625\" y=\"7.2\" width=\"195.3\" height=\"138.6\"/>\n  </clipPath>\n </defs>\n</svg>\n"
     },
     "metadata": {},
     "output_type": "display_data"
    }
   ],
   "source": [
    "from Dataset import set_figsize\n",
    "\n",
    "set_figsize((3.5, 2.5))\n",
    "x = list(range(1, num_epochs+1))\n",
    "plt.plot(x, test_loss, 'r-')\n",
    "plt.plot(x, train_loss, 'b')"
   ],
   "metadata": {
    "collapsed": false
   }
  },
  {
   "cell_type": "code",
   "execution_count": 9,
   "outputs": [],
   "source": [
    "torch.save(net.state_dict(), 'models/model.pth')"
   ],
   "metadata": {
    "collapsed": false
   }
  }
 ],
 "metadata": {
  "kernelspec": {
   "display_name": "Python 3",
   "language": "python",
   "name": "python3"
  },
  "language_info": {
   "codemirror_mode": {
    "name": "ipython",
    "version": 2
   },
   "file_extension": ".py",
   "mimetype": "text/x-python",
   "name": "python",
   "nbconvert_exporter": "python",
   "pygments_lexer": "ipython2",
   "version": "2.7.6"
  }
 },
 "nbformat": 4,
 "nbformat_minor": 0
}
